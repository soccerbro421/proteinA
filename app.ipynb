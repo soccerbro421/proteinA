{
 "cells": [
  {
   "cell_type": "code",
   "execution_count": 1,
   "metadata": {},
   "outputs": [
    {
     "name": "stdout",
     "output_type": "stream",
     "text": [
      "Mean Squared Error: 2.3204593094146206\n",
      "R-squared: -0.6937659192807397\n"
     ]
    }
   ],
   "source": [
    "import pandas as pd\n",
    "from sklearn.model_selection import train_test_split\n",
    "from sklearn.preprocessing import StandardScaler\n",
    "from sklearn.linear_model import LinearRegression\n",
    "from sklearn.metrics import mean_squared_error, r2_score\n",
    "\n",
    "# Load your data into a pandas DataFrame\n",
    "data = pd.read_csv(\"data.csv\")\n",
    "\n",
    "# Split data into features (X) and target (%Recovery)\n",
    "X = data[[\"Column Wash Cond.\", \"Elution pH\", \"Elution Flow Rate\"]]\n",
    "y = data[\"%Recovery\"]\n",
    "\n",
    "# Split the data into training and testing sets\n",
    "X_train, X_test, y_train, y_test = train_test_split(X, y, test_size=0.2, random_state=42)\n",
    "\n",
    "# Standardize the features\n",
    "scaler = StandardScaler()\n",
    "X_train_scaled = scaler.fit_transform(X_train)\n",
    "X_test_scaled = scaler.transform(X_test)\n",
    "\n",
    "# Train a linear regression model\n",
    "model = LinearRegression()\n",
    "model.fit(X_train_scaled, y_train)\n",
    "\n",
    "# Make predictions on the test set\n",
    "y_pred = model.predict(X_test_scaled)\n",
    "\n",
    "# Evaluate the model\n",
    "mse = mean_squared_error(y_test, y_pred)\n",
    "r2 = r2_score(y_test, y_pred)\n",
    "\n",
    "print(\"Mean Squared Error:\", mse)\n",
    "print(\"R-squared:\", r2)\n"
   ]
  },
  {
   "cell_type": "code",
   "execution_count": 3,
   "metadata": {},
   "outputs": [
    {
     "name": "stdout",
     "output_type": "stream",
     "text": [
      "Data Point 1: Predicted %Recovery = 89.21\n",
      "Data Point 2: Predicted %Recovery = 89.11\n",
      "Data Point 3: Predicted %Recovery = 87.54\n",
      "Data Point 4: Predicted %Recovery = 87.54\n"
     ]
    },
    {
     "name": "stderr",
     "output_type": "stream",
     "text": [
      "/Users/timothylee/Library/Python/3.9/lib/python/site-packages/sklearn/base.py:420: UserWarning: X does not have valid feature names, but StandardScaler was fitted with feature names\n",
      "  warnings.warn(\n"
     ]
    }
   ],
   "source": [
    "import numpy as np\n",
    "\n",
    "# New data points for testing\n",
    "new_data = np.array([\n",
    "    [1.5, 7.6, 100],\n",
    "    [2.5, 7.4, 100],\n",
    "    [1.5, 7.4, 200],\n",
    "    [1.5, 7.4, 200]\n",
    "    # Add more data points here\n",
    "])\n",
    "\n",
    "# Standardize the new data using the same scaler\n",
    "new_data_scaled = scaler.transform(new_data)\n",
    "\n",
    "# Make predictions on the new data\n",
    "new_predictions = model.predict(new_data_scaled)\n",
    "\n",
    "# Print the predicted %Recovery for the new data\n",
    "for i, prediction in enumerate(new_predictions):\n",
    "    print(f\"Data Point {i + 1}: Predicted %Recovery = {prediction:.2f}\")\n"
   ]
  }
 ],
 "metadata": {
  "kernelspec": {
   "display_name": "Python 3",
   "language": "python",
   "name": "python3"
  },
  "language_info": {
   "codemirror_mode": {
    "name": "ipython",
    "version": 3
   },
   "file_extension": ".py",
   "mimetype": "text/x-python",
   "name": "python",
   "nbconvert_exporter": "python",
   "pygments_lexer": "ipython3",
   "version": "3.9.6"
  },
  "orig_nbformat": 4
 },
 "nbformat": 4,
 "nbformat_minor": 2
}
